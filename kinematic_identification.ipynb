{
 "cells": [
  {
   "cell_type": "code",
   "execution_count": 1,
   "metadata": {},
   "outputs": [],
   "source": [
    "import rospy\n",
    "import numpy as np\n",
    "import math\n",
    "import matplotlib.pyplot as plt"
   ]
  },
  {
   "cell_type": "code",
   "execution_count": 16,
   "metadata": {},
   "outputs": [],
   "source": [
    "def get_T__i(theta__i, d__i, a__i, alpha__i) -> np.array:\n",
    "    t1 = math.cos(theta__i)\n",
    "    t2 = math.sin(theta__i)\n",
    "    t3 = math.cos(alpha__i)\n",
    "    t4 = math.sin(alpha__i)\n",
    "    return np.array([[t1,-t2 * t3,t2 * t4,t1 * a__i],[t2,t1 * t3,-t1 * t4,t2 * a__i],[0,t4,t3,d__i],[0,0,0,1]])"
   ]
  },
  {
   "cell_type": "code",
   "execution_count": 24,
   "metadata": {},
   "outputs": [],
   "source": [
    "def get_T_jk(j,k,theta_all, d_all, a_all, alpha_all) -> np.array:\n",
    "    \"\"\"\n",
    "    T_jk = T^j_k\n",
    "    \"\"\"\n",
    "    theta_all, d_all, a_all, alpha_all = theta_all.flatten(), d_all.flatten(), a_all.flatten(), alpha_all.flatten()\n",
    "    assert theta_all.size==7 and d_all.size==7 and a_all.size==7 and alpha_all.size==7, \"DH param vector len\"\n",
    "    T=np.eye(4)\n",
    "    for i in range(k+1, j+1, 1): # first i=k+1, last i=j\n",
    "        print(\"multiplying T^\"+str(i)+\"_\"+str(i-1))\n",
    "        T=np.matmul(T,get_T__i(theta_all[i-1], d_all[i-1], a_all[i-1], alpha_all[i-1]))\n",
    "    return T\n"
   ]
  },
  {
   "cell_type": "code",
   "execution_count": 25,
   "metadata": {},
   "outputs": [
    {
     "ename": "AssertionError",
     "evalue": "DH param vector len",
     "output_type": "error",
     "traceback": [
      "\u001b[0;31m---------------------------------------------------------------------------\u001b[0m",
      "\u001b[0;31mAssertionError\u001b[0m                            Traceback (most recent call last)",
      "\u001b[1;32m/home/armin/catkin_ws/src/kident/src/kinematic_identification.ipynb Cell 4\u001b[0m in \u001b[0;36m<cell line: 2>\u001b[0;34m()\u001b[0m\n\u001b[1;32m      <a href='vscode-notebook-cell:/home/armin/catkin_ws/src/kident/src/kinematic_identification.ipynb#ch0000004?line=0'>1</a>\u001b[0m a\u001b[39m=\u001b[39mnp\u001b[39m.\u001b[39marray([\u001b[39m0\u001b[39m,\u001b[39m0\u001b[39m,\u001b[39m0\u001b[39m,\u001b[39m0\u001b[39m,\u001b[39m0\u001b[39m,\u001b[39m0\u001b[39m])\n\u001b[0;32m----> <a href='vscode-notebook-cell:/home/armin/catkin_ws/src/kident/src/kinematic_identification.ipynb#ch0000004?line=1'>2</a>\u001b[0m \u001b[39mprint\u001b[39m(get_T_jk(\u001b[39m6\u001b[39;49m,\u001b[39m0\u001b[39;49m,a,a,a,a))\n",
      "\u001b[1;32m/home/armin/catkin_ws/src/kident/src/kinematic_identification.ipynb Cell 4\u001b[0m in \u001b[0;36mget_T_jk\u001b[0;34m(j, k, theta_all, d_all, a_all, alpha_all)\u001b[0m\n\u001b[1;32m      <a href='vscode-notebook-cell:/home/armin/catkin_ws/src/kident/src/kinematic_identification.ipynb#ch0000004?line=1'>2</a>\u001b[0m \u001b[39m\"\"\"\u001b[39;00m\n\u001b[1;32m      <a href='vscode-notebook-cell:/home/armin/catkin_ws/src/kident/src/kinematic_identification.ipynb#ch0000004?line=2'>3</a>\u001b[0m \u001b[39mT_jk = T^j_k\u001b[39;00m\n\u001b[1;32m      <a href='vscode-notebook-cell:/home/armin/catkin_ws/src/kident/src/kinematic_identification.ipynb#ch0000004?line=3'>4</a>\u001b[0m \u001b[39m\"\"\"\u001b[39;00m\n\u001b[1;32m      <a href='vscode-notebook-cell:/home/armin/catkin_ws/src/kident/src/kinematic_identification.ipynb#ch0000004?line=4'>5</a>\u001b[0m theta_all, d_all, a_all, alpha_all \u001b[39m=\u001b[39m theta_all\u001b[39m.\u001b[39mflatten(), d_all\u001b[39m.\u001b[39mflatten(), a_all\u001b[39m.\u001b[39mflatten(), alpha_all\u001b[39m.\u001b[39mflatten()\n\u001b[0;32m----> <a href='vscode-notebook-cell:/home/armin/catkin_ws/src/kident/src/kinematic_identification.ipynb#ch0000004?line=5'>6</a>\u001b[0m \u001b[39massert\u001b[39;00m theta_all\u001b[39m.\u001b[39msize\u001b[39m==\u001b[39m\u001b[39m7\u001b[39m \u001b[39mand\u001b[39;00m d_all\u001b[39m.\u001b[39msize\u001b[39m==\u001b[39m\u001b[39m7\u001b[39m \u001b[39mand\u001b[39;00m a_all\u001b[39m.\u001b[39msize\u001b[39m==\u001b[39m\u001b[39m7\u001b[39m \u001b[39mand\u001b[39;00m alpha_all\u001b[39m.\u001b[39msize\u001b[39m==\u001b[39m\u001b[39m7\u001b[39m, \u001b[39m\"\u001b[39m\u001b[39mDH param vector len\u001b[39m\u001b[39m\"\u001b[39m\n\u001b[1;32m      <a href='vscode-notebook-cell:/home/armin/catkin_ws/src/kident/src/kinematic_identification.ipynb#ch0000004?line=6'>7</a>\u001b[0m T\u001b[39m=\u001b[39mnp\u001b[39m.\u001b[39meye(\u001b[39m4\u001b[39m)\n\u001b[1;32m      <a href='vscode-notebook-cell:/home/armin/catkin_ws/src/kident/src/kinematic_identification.ipynb#ch0000004?line=7'>8</a>\u001b[0m \u001b[39mfor\u001b[39;00m i \u001b[39min\u001b[39;00m \u001b[39mrange\u001b[39m(k\u001b[39m+\u001b[39m\u001b[39m1\u001b[39m, j\u001b[39m+\u001b[39m\u001b[39m1\u001b[39m, \u001b[39m1\u001b[39m): \u001b[39m# first i=k+1, last i=j\u001b[39;00m\n",
      "\u001b[0;31mAssertionError\u001b[0m: DH param vector len"
     ]
    }
   ],
   "source": [
    "a=np.array([0,0,0,0,0,0])\n",
    "print(get_T_jk(6,0,a,a,a,a))"
   ]
  },
  {
   "cell_type": "code",
   "execution_count": null,
   "metadata": {},
   "outputs": [],
   "source": []
  }
 ],
 "metadata": {
  "kernelspec": {
   "display_name": "Python 3.8.10 64-bit",
   "language": "python",
   "name": "python3"
  },
  "language_info": {
   "codemirror_mode": {
    "name": "ipython",
    "version": 3
   },
   "file_extension": ".py",
   "mimetype": "text/x-python",
   "name": "python",
   "nbconvert_exporter": "python",
   "pygments_lexer": "ipython3",
   "version": "3.8.10"
  },
  "orig_nbformat": 4,
  "vscode": {
   "interpreter": {
    "hash": "e7370f93d1d0cde622a1f8e1c04877d8463912d04d973331ad4851f04de6915a"
   }
  }
 },
 "nbformat": 4,
 "nbformat_minor": 2
}
